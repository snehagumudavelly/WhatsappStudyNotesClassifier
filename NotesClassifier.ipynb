{
  "nbformat": 4,
  "nbformat_minor": 0,
  "metadata": {
    "colab": {
      "name": "NotesClassifier.ipynb",
      "provenance": [],
      "collapsed_sections": []
    },
    "kernelspec": {
      "display_name": "Python 3",
      "name": "python3"
    },
    "language_info": {
      "name": "python"
    }
  },
  "cells": [
    {
      "cell_type": "code",
      "metadata": {
        "id": "gCZOOKHRsjb9"
      },
      "source": [
        "import os\n",
        "import numpy as np\n",
        "import keras\n",
        "from keras.models import *\n",
        "from keras.layers import *\n",
        "from keras.preprocessing.image import *\n"
      ],
      "execution_count": null,
      "outputs": []
    },
    {
      "cell_type": "code",
      "metadata": {
        "id": "863r0FlXsti7"
      },
      "source": [
        "import matplotlib.pyplot as plt\n",
        "import random\n",
        "from glob import glob\n",
        "%matplotlib inline"
      ],
      "execution_count": null,
      "outputs": []
    },
    {
      "cell_type": "code",
      "metadata": {
        "id": "e67pCI3l4SGT"
      },
      "source": [
        ""
      ],
      "execution_count": null,
      "outputs": []
    },
    {
      "cell_type": "code",
      "metadata": {
        "colab": {
          "base_uri": "https://localhost:8080/"
        },
        "id": "vpngTe-a4Svm",
        "outputId": "e8bb5680-30dc-4e38-fe55-4a92fed245a6"
      },
      "source": [
        "from google.colab import drive\n",
        "drive.mount('/content/drive')"
      ],
      "execution_count": null,
      "outputs": [
        {
          "output_type": "stream",
          "text": [
            "Mounted at /content/drive\n"
          ],
          "name": "stdout"
        }
      ]
    },
    {
      "cell_type": "markdown",
      "metadata": {
        "id": "QC4EvKer1h20"
      },
      "source": [
        "**Data Loading**"
      ]
    },
    {
      "cell_type": "code",
      "metadata": {
        "id": "ZyauwlqjsZbg"
      },
      "source": [
        "base_dir = os.path.join(os.getcwd(), '/content/drive/MyDrive/WISE_ML_3-2/data')\n",
        "train_dir = os.path.join(base_dir, 'train')\n",
        "validation_dir = os.path.join(base_dir, 'test')"
      ],
      "execution_count": null,
      "outputs": []
    },
    {
      "cell_type": "code",
      "metadata": {
        "id": "sUjpUdbwsyHJ"
      },
      "source": [
        "train_notes_dir = os.path.join(train_dir, 'notesImages')  # directory with our training cat pictures\n",
        "train_other_dir = os.path.join(train_dir, 'other')\n",
        "validation_notes_dir = os.path.join(validation_dir, 'notesImages')  # directory with our validation cat pictures\n",
        "validation_other_dir = os.path.join(validation_dir, 'other')"
      ],
      "execution_count": null,
      "outputs": []
    },
    {
      "cell_type": "code",
      "metadata": {
        "colab": {
          "base_uri": "https://localhost:8080/"
        },
        "id": "jQYj_Dyi7_79",
        "outputId": "827ab80a-0fe6-4835-942b-b416cda1772c"
      },
      "source": [
        "num_notes_tr = len(os.listdir(train_notes_dir))\n",
        "num_others_tr = len(os.listdir(train_other_dir))\n",
        "\n",
        "num_notes_val = len(os.listdir(validation_notes_dir))\n",
        "num_others_val = len(os.listdir(validation_other_dir))\n",
        "\n",
        "total_train = num_notes_tr + num_others_tr\n",
        "total_val = num_notes_val + num_others_val\n",
        "total_train"
      ],
      "execution_count": null,
      "outputs": [
        {
          "output_type": "execute_result",
          "data": {
            "text/plain": [
              "128"
            ]
          },
          "metadata": {
            "tags": []
          },
          "execution_count": 6
        }
      ]
    },
    {
      "cell_type": "code",
      "metadata": {
        "colab": {
          "base_uri": "https://localhost:8080/"
        },
        "id": "YjTMdTAEJRpt",
        "outputId": "ebef5719-db8c-4e3b-f35d-7b87af1ad6ce"
      },
      "source": [
        "total_val"
      ],
      "execution_count": null,
      "outputs": [
        {
          "output_type": "execute_result",
          "data": {
            "text/plain": [
              "64"
            ]
          },
          "metadata": {
            "tags": []
          },
          "execution_count": 7
        }
      ]
    },
    {
      "cell_type": "code",
      "metadata": {
        "id": "ABLzF-h7tcwZ"
      },
      "source": [
        "# Initialising the CNN \n",
        "model = Sequential()\n",
        "\n",
        "# Step 1 - Convolution\n",
        "model.add(Conv2D(32, (3, 3), input_shape=(124, 124, 3)))\n",
        "model.add(Activation('relu'))\n",
        "\n",
        "# Step 2 - Pooling\n",
        "model.add(MaxPooling2D(pool_size=(2, 2)))\n",
        "\n",
        "# Step 1 & 2 with more hidden layers\n",
        "model.add(Conv2D(32, (3, 3)))\n",
        "model.add(Activation('relu'))\n",
        "model.add(MaxPooling2D(pool_size=(2, 2)))\n",
        "\n",
        "\n",
        "model.add(Conv2D(64, (3, 3)))\n",
        "model.add(Activation('relu'))\n",
        "model.add(MaxPooling2D(pool_size=(2, 2)))\n",
        "\n",
        "# Step 3 - Dropout\n",
        "model.add(Dropout(0.5))\n",
        "\n",
        "# Step 4 - Flattening\n",
        "model.add(Flatten()) \n",
        "\n",
        "# Step 5 - Full connection\n",
        "model.add(Dense(64))\n",
        "model.add(Activation('relu'))\n",
        "\n",
        "model.add(Dense(1))\n",
        "model.add(Activation('sigmoid'))\n",
        "\n",
        "# Compiling the CNN\n",
        "model.compile(loss='binary_crossentropy',\n",
        "              optimizer='adam',\n",
        "              metrics=['accuracy'])\n",
        "    "
      ],
      "execution_count": null,
      "outputs": []
    },
    {
      "cell_type": "code",
      "metadata": {
        "colab": {
          "base_uri": "https://localhost:8080/"
        },
        "id": "hElU7U_-IJq5",
        "outputId": "b4610f26-cdc5-4d7d-e068-e82190262c85"
      },
      "source": [
        "model.summary()"
      ],
      "execution_count": null,
      "outputs": [
        {
          "output_type": "stream",
          "text": [
            "Model: \"sequential\"\n",
            "_________________________________________________________________\n",
            "Layer (type)                 Output Shape              Param #   \n",
            "=================================================================\n",
            "conv2d (Conv2D)              (None, 122, 122, 32)      896       \n",
            "_________________________________________________________________\n",
            "activation (Activation)      (None, 122, 122, 32)      0         \n",
            "_________________________________________________________________\n",
            "max_pooling2d (MaxPooling2D) (None, 61, 61, 32)        0         \n",
            "_________________________________________________________________\n",
            "conv2d_1 (Conv2D)            (None, 59, 59, 32)        9248      \n",
            "_________________________________________________________________\n",
            "activation_1 (Activation)    (None, 59, 59, 32)        0         \n",
            "_________________________________________________________________\n",
            "max_pooling2d_1 (MaxPooling2 (None, 29, 29, 32)        0         \n",
            "_________________________________________________________________\n",
            "conv2d_2 (Conv2D)            (None, 27, 27, 64)        18496     \n",
            "_________________________________________________________________\n",
            "activation_2 (Activation)    (None, 27, 27, 64)        0         \n",
            "_________________________________________________________________\n",
            "max_pooling2d_2 (MaxPooling2 (None, 13, 13, 64)        0         \n",
            "_________________________________________________________________\n",
            "dropout (Dropout)            (None, 13, 13, 64)        0         \n",
            "_________________________________________________________________\n",
            "flatten (Flatten)            (None, 10816)             0         \n",
            "_________________________________________________________________\n",
            "dense (Dense)                (None, 64)                692288    \n",
            "_________________________________________________________________\n",
            "activation_3 (Activation)    (None, 64)                0         \n",
            "_________________________________________________________________\n",
            "dense_1 (Dense)              (None, 1)                 65        \n",
            "_________________________________________________________________\n",
            "activation_4 (Activation)    (None, 1)                 0         \n",
            "=================================================================\n",
            "Total params: 720,993\n",
            "Trainable params: 720,993\n",
            "Non-trainable params: 0\n",
            "_________________________________________________________________\n"
          ],
          "name": "stdout"
        }
      ]
    },
    {
      "cell_type": "code",
      "metadata": {
        "id": "dTENr1r77Zp9"
      },
      "source": [
        "model.load_weights('/content/drive/MyDrive/WISE_ML_3-2/weights.h5')\n"
      ],
      "execution_count": null,
      "outputs": []
    },
    {
      "cell_type": "markdown",
      "metadata": {
        "id": "Nqg3jodSd7vC"
      },
      "source": [
        "**Data Augmentation and Preparation**"
      ]
    },
    {
      "cell_type": "code",
      "metadata": {
        "colab": {
          "base_uri": "https://localhost:8080/"
        },
        "id": "WXj3HkdMuf-k",
        "outputId": "f6300338-be8b-43d7-b635-a3c767704c18"
      },
      "source": [
        "batch_size = 32\n",
        "IMG_SHAPE  = 124\n",
        "# data augmentation\n",
        "train_datagen = ImageDataGenerator(\n",
        "        rescale=1./255,    \n",
        "        rotation_range=40,\n",
        "        width_shift_range=0.2,\n",
        "        height_shift_range=0.2,\n",
        "        shear_range=0.2,\n",
        "        zoom_range=0.2,\n",
        "        horizontal_flip=True,\n",
        "        fill_mode='nearest')\n",
        "\n",
        "train_generator = train_datagen.flow_from_directory(\n",
        "        directory=train_dir,  \n",
        "        target_size=(IMG_SHAPE,IMG_SHAPE),  \n",
        "        batch_size=batch_size,\n",
        "        class_mode='binary')  "
      ],
      "execution_count": null,
      "outputs": [
        {
          "output_type": "stream",
          "text": [
            "Found 128 images belonging to 2 classes.\n"
          ],
          "name": "stdout"
        }
      ]
    },
    {
      "cell_type": "code",
      "metadata": {
        "id": "t7vLHK6V8PY3"
      },
      "source": [
        "validation_datagen = ImageDataGenerator(rescale=1./255)"
      ],
      "execution_count": null,
      "outputs": []
    },
    {
      "cell_type": "code",
      "metadata": {
        "colab": {
          "base_uri": "https://localhost:8080/"
        },
        "id": "6TYjui5W8PqZ",
        "outputId": "35020578-883f-4f11-cbb1-404d02efff48"
      },
      "source": [
        "validation_set = validation_datagen.flow_from_directory(batch_size=batch_size,\n",
        "                                                        directory=validation_dir,\n",
        "                                                        target_size=(IMG_SHAPE,IMG_SHAPE),\n",
        "                                                        class_mode='binary')"
      ],
      "execution_count": null,
      "outputs": [
        {
          "output_type": "stream",
          "text": [
            "Found 64 images belonging to 2 classes.\n"
          ],
          "name": "stdout"
        }
      ]
    },
    {
      "cell_type": "code",
      "metadata": {
        "id": "27T4AfzwHLQG"
      },
      "source": [
        "\n",
        "def predict(file_path):\n",
        "  \n",
        "    img = load_img(file_path, target_size=(124, 124, 3))\n",
        "    x = img_to_array(img) / 255. \n",
        "    y = model.predict(np.expand_dims(x, axis=0))\n",
        "    return np.squeeze(y) > 0.5"
      ],
      "execution_count": null,
      "outputs": []
    },
    {
      "cell_type": "code",
      "metadata": {
        "id": "9jhdDS_B2qgg"
      },
      "source": [
        "if not os.path.exists('/content/drive/MyDrive/WISE_ML_3-2/notes'):\n",
        "    os.mkdir('/content/drive/MyDrive/WISE_ML_3-2/notes')"
      ],
      "execution_count": null,
      "outputs": []
    },
    {
      "cell_type": "code",
      "metadata": {
        "id": "0l15A0Wz26cI"
      },
      "source": [
        "files = glob('/content/drive/MyDrive/WISE_ML_3-2/validate/*.*')\n",
        "\n",
        "for file_path in files:\n",
        "    if predict(file_path): \n",
        "        file_name = file_path.split('/')[-1] \n",
        "        os.rename(file_path, '/content/drive/MyDrive/WISE_ML_3-2/notes/' + file_name) "
      ],
      "execution_count": null,
      "outputs": []
    },
    {
      "cell_type": "code",
      "metadata": {
        "colab": {
          "base_uri": "https://localhost:8080/"
        },
        "id": "6z813LFSgrrB",
        "outputId": "cb3caf59-4912-4744-8c91-8690bca49edc"
      },
      "source": [
        "epochs=5\n",
        "history = model.fit_generator(\n",
        "        train_generator,\n",
        "        steps_per_epoch= (total_train) // (batch_size),\n",
        "        epochs=epochs,\n",
        "        validation_data=validation_set,\n",
        "        validation_steps= total_val // batch_size)\n"
      ],
      "execution_count": null,
      "outputs": [
        {
          "output_type": "stream",
          "text": [
            "/usr/local/lib/python3.7/dist-packages/keras/engine/training.py:1915: UserWarning: `Model.fit_generator` is deprecated and will be removed in a future version. Please use `Model.fit`, which supports generators.\n",
            "  warnings.warn('`Model.fit_generator` is deprecated and '\n"
          ],
          "name": "stderr"
        },
        {
          "output_type": "stream",
          "text": [
            "Epoch 1/5\n",
            "4/4 [==============================] - 70s 19s/step - loss: 2.8917 - accuracy: 0.0344 - val_loss: 1.7270 - val_accuracy: 0.0938\n",
            "Epoch 2/5\n",
            "4/4 [==============================] - 12s 3s/step - loss: 1.2864 - accuracy: 0.0135 - val_loss: 0.9501 - val_accuracy: 0.0781\n",
            "Epoch 3/5\n",
            "4/4 [==============================] - 13s 3s/step - loss: 0.9125 - accuracy: 0.0833 - val_loss: 0.7388 - val_accuracy: 0.3750\n",
            "Epoch 4/5\n",
            "4/4 [==============================] - 12s 3s/step - loss: 0.7332 - accuracy: 0.5198 - val_loss: 0.6846 - val_accuracy: 0.5938\n",
            "Epoch 5/5\n",
            "4/4 [==============================] - 12s 3s/step - loss: 0.6721 - accuracy: 0.6427 - val_loss: 0.6611 - val_accuracy: 0.5938\n"
          ],
          "name": "stdout"
        }
      ]
    },
    {
      "cell_type": "code",
      "metadata": {
        "colab": {
          "base_uri": "https://localhost:8080/"
        },
        "id": "CbOb8IMOIyYc",
        "outputId": "72a01ef7-7519-4701-cc12-f6df845d35e4"
      },
      "source": [
        "(total_train) // (batch_size)"
      ],
      "execution_count": null,
      "outputs": [
        {
          "output_type": "execute_result",
          "data": {
            "text/plain": [
              "4"
            ]
          },
          "metadata": {
            "tags": []
          },
          "execution_count": 19
        }
      ]
    },
    {
      "cell_type": "code",
      "metadata": {
        "colab": {
          "base_uri": "https://localhost:8080/"
        },
        "id": "EvjFgKCPI9zC",
        "outputId": "f9ead781-a2fe-448d-e11b-482a58fc9e49"
      },
      "source": [
        "total_val // batch_size"
      ],
      "execution_count": null,
      "outputs": [
        {
          "output_type": "execute_result",
          "data": {
            "text/plain": [
              "2"
            ]
          },
          "metadata": {
            "tags": []
          },
          "execution_count": 20
        }
      ]
    },
    {
      "cell_type": "code",
      "metadata": {
        "colab": {
          "base_uri": "https://localhost:8080/",
          "height": 499
        },
        "id": "WdLm0h-XuAc8",
        "outputId": "c0910062-cd7b-4642-f6f9-f1018db4d1a5"
      },
      "source": [
        "acc = history.history['accuracy']\n",
        "val_acc = history.history['val_accuracy']\n",
        "\n",
        "loss = history.history['loss']\n",
        "val_loss = history.history['val_loss']\n",
        "\n",
        "epochs_range = range(epochs)\n",
        "\n",
        "plt.figure(figsize=(10, 8))\n",
        "plt.subplot(1, 2, 1)\n",
        "plt.plot(epochs_range, acc, label='Training Accuracy')\n",
        "plt.plot(epochs_range, val_acc, label='Validation Accuracy')\n",
        "plt.legend(loc='lower right')\n",
        "plt.title('Training and Validation Accuracy')\n",
        "\n",
        "plt.subplot(1, 2, 2)\n",
        "plt.plot(epochs_range, loss, label='Training Loss')\n",
        "plt.plot(epochs_range, val_loss, label='Validation Loss')\n",
        "plt.legend(loc='upper right')\n",
        "plt.title('Training and Validation Loss')\n",
        "plt.show()"
      ],
      "execution_count": null,
      "outputs": [
        {
          "output_type": "display_data",
          "data": {
            "image/png": "[encoded data removed]",
            "text/plain": [
              "<Figure size 720x576 with 2 Axes>"
            ]
          },
          "metadata": {
            "tags": [],
            "needs_background": "light"
          }
        }
      ]
    },
    {
      "cell_type": "code",
      "metadata": {
        "id": "jP7O0tRhE-7L",
        "colab": {
          "base_uri": "https://localhost:8080/"
        },
        "outputId": "a8e6fae1-6b04-422c-b575-e937c69cb87d"
      },
      "source": [
        "acc"
      ],
      "execution_count": null,
      "outputs": [
        {
          "output_type": "execute_result",
          "data": {
            "text/plain": [
              "[0.0234375, 0.0234375, 0.1328125, 0.5625, 0.640625]"
            ]
          },
          "metadata": {
            "tags": []
          },
          "execution_count": 22
        }
      ]
    },
    {
      "cell_type": "code",
      "metadata": {
        "id": "xX3E_plluGTC",
        "colab": {
          "base_uri": "https://localhost:8080/"
        },
        "outputId": "0503eaac-8a44-4f65-f15d-ef19920f136a"
      },
      "source": [
        "x, y = next(train_generator)\n",
        "y = y.reshape(len(y), 1)\n",
        "y_pred = model.predict(x)\n",
        "y_pred = (y_pred > 0.5) * 1\n",
        "\n",
        "y == y_pred\n"
      ],
      "execution_count": null,
      "outputs": [
        {
          "output_type": "execute_result",
          "data": {
            "text/plain": [
              "array([[ True],\n",
              "       [ True],\n",
              "       [ True],\n",
              "       [ True],\n",
              "       [ True],\n",
              "       [ True],\n",
              "       [False],\n",
              "       [False],\n",
              "       [ True],\n",
              "       [ True],\n",
              "       [False],\n",
              "       [ True],\n",
              "       [ True],\n",
              "       [ True],\n",
              "       [ True],\n",
              "       [ True],\n",
              "       [ True],\n",
              "       [False],\n",
              "       [ True],\n",
              "       [False],\n",
              "       [ True],\n",
              "       [False],\n",
              "       [ True],\n",
              "       [ True],\n",
              "       [ True],\n",
              "       [ True],\n",
              "       [ True],\n",
              "       [ True],\n",
              "       [ True],\n",
              "       [False],\n",
              "       [False],\n",
              "       [ True]])"
            ]
          },
          "metadata": {
            "tags": []
          },
          "execution_count": 24
        }
      ]
    },
    {
      "cell_type": "code",
      "metadata": {
        "id": "P7w9QCHs9sbA"
      },
      "source": [
        "model.save_weights('/content/drive/MyDrive/WISE_ML_3-2/weights.h5')\n"
      ],
      "execution_count": null,
      "outputs": []
    }
  ]
}